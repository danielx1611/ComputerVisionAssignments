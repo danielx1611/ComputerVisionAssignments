{
  "nbformat": 4,
  "nbformat_minor": 0,
  "metadata": {
    "colab": {
      "provenance": [],
      "include_colab_link": true
    },
    "kernelspec": {
      "name": "python3",
      "display_name": "Python 3"
    },
    "language_info": {
      "name": "python"
    }
  },
  "cells": [
    {
      "cell_type": "markdown",
      "metadata": {
        "id": "view-in-github",
        "colab_type": "text"
      },
      "source": [
        "<a href=\"https://colab.research.google.com/github/danielx1611/ComputerVisionAssignments/blob/main/CameraCalibration.ipynb\" target=\"_parent\"><img src=\"https://colab.research.google.com/assets/colab-badge.svg\" alt=\"Open In Colab\"/></a>"
      ]
    },
    {
      "cell_type": "markdown",
      "source": [
        "# Camera Calibration with Gradio UI"
      ],
      "metadata": {
        "id": "d56RU_Upyfdx"
      }
    },
    {
      "cell_type": "markdown",
      "source": [
        "### Camera Calibration"
      ],
      "metadata": {
        "id": "t8QVS0J8yXBW"
      }
    },
    {
      "cell_type": "code",
      "execution_count": 4,
      "metadata": {
        "id": "IqG8IlmNxnUS"
      },
      "outputs": [],
      "source": [
        "import numpy as np\n",
        "import cv2 as cv\n",
        "import glob\n",
        "from google.colab.patches import cv2_imshow\n",
        "\n",
        "def run_calibration():\n",
        "  # termination criteria\n",
        "  criteria = (cv.TERM_CRITERIA_EPS + cv.TERM_CRITERIA_MAX_ITER, 30, 0.001) # 30: max_iter , 0.001 : accuracy\n",
        "\n",
        "  # prepare object points, like (0,0,0), (1,0,0), ..., (6,5,0)\n",
        "  objp = np.zeros((9*6,3), np.float32) #\n",
        "  objp[:,:2] = np.mgrid[0:9,0:6].T.reshape(-1,2) # reshaped to [42,2] only take X and Y\n",
        "\n",
        "  # Arrays to store object points and image points from all the images.\n",
        "  objpoints = [] # 3d point in real world space [X,Y,Z]\n",
        "  imgpoints = [] # 2d points in image plane. [X,Y]\n",
        "\n",
        "  image_dir = Path(\"/content/images\")\n",
        "  images = list(image_dir.glob(\"*.jpeg\")) + list(image_dir.glob(\"*.jpg\"))\n",
        "\n",
        "  for fname in images:\n",
        "    print(1)\n",
        "    img = cv.imread(fname)\n",
        "    gray = cv.cvtColor(img, cv.COLOR_BGR2GRAY) # convert color to BlackWhite\n",
        "\n",
        "    ret, corners = cv.findChessboardCorners(gray, (9,6), None) # ret is set to True if corners are found corners return array of corners found\n",
        "\n",
        "    if ret == True:\n",
        "      print(2)\n",
        "      objpoints.append(objp)\n",
        "\n",
        "      corners2 = cv.cornerSubPix(gray,corners, (11,11), (-1,-1), criteria)\n",
        "      imgpoints.append(corners2)\n",
        "      # cv2.imshow() is disabled in Colab, because it causes Jupyter sessions to crash; import cv2_imshow\n",
        "      cv.drawChessboardCorners(img, (9,6), corners2, ret)\n",
        "      cv2_imshow(img)\n",
        "\n",
        "      # Calibration Part\n",
        "      ret, mtx, dist, rvecs, tvecs = cv.calibrateCamera(objpoints, imgpoints, gray.shape[::-1], None, None)\n",
        "\n",
        "      img = cv.imread(fname)\n",
        "      h,  w = img.shape[:2]\n",
        "      newcameramtx, roi = cv.getOptimalNewCameraMatrix(mtx, dist, (w,h), 1, (w,h))\n",
        "\n",
        "      # undistort\n",
        "      mapx, mapy = cv.initUndistortRectifyMap(mtx, dist, None, newcameramtx, (w,h), 5)\n",
        "      dst = cv.remap(img, mapx, mapy, cv.INTER_LINEAR)\n",
        "\n",
        "      # crop the image\n",
        "      x, y, w, h = roi\n",
        "      dst = dst[y:y+h, x:x+w]\n",
        "      cv.imwrite('calibresult.png', dst)\n",
        "\n",
        "      # Save results into calibration.json\n",
        "      calibration_data = {\n",
        "          \"K\": mtx.tolist(),               # Intrinsic matrix\n",
        "          \"D\": dist.tolist(),              # Distortion coefficients\n",
        "          \"R\": [cv.Rodrigues(r)[0].tolist() for r in rvecs],  # Convert rvec to rotation matrix\n",
        "          \"t\": [t.tolist() for t in tvecs],                   # Translation vectors\n",
        "          \"width\": w,\n",
        "          \"height\": h\n",
        "      }\n",
        "\n",
        "      with open(\"calibration.json\", \"w\") as f:\n",
        "          json.dump(calibration_data, f, indent=2)\n",
        "\n",
        "      mean_error = 0\n",
        "      for i in range(len(objpoints)):\n",
        "          imgpoints2, _ = cv.projectPoints(objpoints[i], rvecs[i], tvecs[i], mtx, dist)\n",
        "          error = cv.norm(imgpoints[i], imgpoints2, cv.NORM_L2)/len(imgpoints2)\n",
        "          mean_error += error\n",
        "\n",
        "      print( \"total error: {}\".format(mean_error/len(objpoints)) )"
      ]
    },
    {
      "cell_type": "markdown",
      "source": [
        "### Gradio UI"
      ],
      "metadata": {
        "id": "zB3R4hGcyk2W"
      }
    },
    {
      "cell_type": "code",
      "source": [
        "import gradio\n",
        "import os\n",
        "import json\n",
        "from pathlib import Path\n",
        "\n",
        "image_dir = Path(\"/content/images\")\n",
        "image_dir.mkdir(parents=True, exist_ok=True)\n",
        "\n",
        "def save_images(images):\n",
        "  for image in images:\n",
        "    destination = image_dir / Path(image.name).name\n",
        "    with open(image.name, \"rb\") as src, open(destination, \"wb\") as dst:\n",
        "      dst.write(src.read())\n",
        "\n",
        "\n",
        "def run_visualization():\n",
        "  calibration_data = None\n",
        "  with open(\"calibration.json\", \"r\") as f:\n",
        "    calibration_data = json.load(f)\n",
        "\n",
        "  results_visualization(calibration_data)\n",
        "\n",
        "\n",
        "with gradio.Blocks() as ui:\n",
        "  gradio.Markdown(\"### Calibration UI\")\n",
        "  upload = gradio.File(file_types=[\".jpeg\"])\n",
        "  upload_button = gradio.Button(\"Upload Images\")\n",
        "  upload_output = gradio.Textbox(label=\"Upload status\")\n",
        "\n",
        "  calibrate_button = gradio.Button(\"Run Calibration\")\n",
        "\n",
        "  visualize_button = gradio.Button(\"Visualize Results\")\n",
        "\n",
        "  upload_button.click(fn=save_images, inputs=upload, outputs=upload_output)\n",
        "  calibrate_button.click(fn=run_calibration)\n",
        "  visualize_button.click(fn=run_visualization)\n",
        "\n",
        "ui.launch(share=False, inline=True)"
      ],
      "metadata": {
        "id": "NbNSuZUBylE9",
        "outputId": "e3336c0f-b6eb-45c2-cf61-766cb4b5ea51",
        "colab": {
          "base_uri": "https://localhost:8080/",
          "height": 599
        }
      },
      "execution_count": 6,
      "outputs": [
        {
          "output_type": "stream",
          "name": "stdout",
          "text": [
            "Colab notebook detected. To show errors in colab notebook, set debug=True in launch()\n",
            "Note: opening Chrome Inspector may crash demo inside Colab notebooks.\n",
            "* To create a public link, set `share=True` in `launch()`.\n"
          ]
        },
        {
          "output_type": "display_data",
          "data": {
            "text/plain": [
              "<IPython.core.display.Javascript object>"
            ],
            "application/javascript": [
              "(async (port, path, width, height, cache, element) => {\n",
              "                        if (!google.colab.kernel.accessAllowed && !cache) {\n",
              "                            return;\n",
              "                        }\n",
              "                        element.appendChild(document.createTextNode(''));\n",
              "                        const url = await google.colab.kernel.proxyPort(port, {cache});\n",
              "\n",
              "                        const external_link = document.createElement('div');\n",
              "                        external_link.innerHTML = `\n",
              "                            <div style=\"font-family: monospace; margin-bottom: 0.5rem\">\n",
              "                                Running on <a href=${new URL(path, url).toString()} target=\"_blank\">\n",
              "                                    https://localhost:${port}${path}\n",
              "                                </a>\n",
              "                            </div>\n",
              "                        `;\n",
              "                        element.appendChild(external_link);\n",
              "\n",
              "                        const iframe = document.createElement('iframe');\n",
              "                        iframe.src = new URL(path, url).toString();\n",
              "                        iframe.height = height;\n",
              "                        iframe.allow = \"autoplay; camera; microphone; clipboard-read; clipboard-write;\"\n",
              "                        iframe.width = width;\n",
              "                        iframe.style.border = 0;\n",
              "                        element.appendChild(iframe);\n",
              "                    })(7862, \"/\", \"100%\", 500, false, window.element)"
            ]
          },
          "metadata": {}
        },
        {
          "output_type": "execute_result",
          "data": {
            "text/plain": []
          },
          "metadata": {},
          "execution_count": 6
        }
      ]
    },
    {
      "cell_type": "markdown",
      "source": [
        "### Results Visualization"
      ],
      "metadata": {
        "id": "UBEn17iNylW3"
      }
    },
    {
      "cell_type": "code",
      "source": [
        "def results_visualization(calibration_data):\n",
        "  pass"
      ],
      "metadata": {
        "id": "x8Z1TiRgylm7"
      },
      "execution_count": 5,
      "outputs": []
    }
  ]
}